{
 "cells": [
  {
   "cell_type": "markdown",
   "metadata": {
    "collapsed": true
   },
   "source": [
    "# Image Classification\n",
    "In this project, you'll classify images from the [CIFAR-10 dataset](https://www.cs.toronto.edu/~kriz/cifar.html).  The dataset consists of airplanes, dogs, cats, and other objects. You'll preprocess the images, then train a convolutional neural network on all the samples. The images need to be normalized and the labels need to be one-hot encoded.  You'll get to apply what you learned and build a convolutional, max pooling, dropout, and fully connected layers.  At the end, you'll get to see your neural network's predictions on the sample images.\n",
    "## Get the Data\n",
    "Run the following cell to download the [CIFAR-10 dataset for python](https://www.cs.toronto.edu/~kriz/cifar-10-python.tar.gz)."
   ]
  },
  {
   "cell_type": "code",
   "execution_count": 1,
   "metadata": {},
   "outputs": [
    {
     "name": "stderr",
     "output_type": "stream",
     "text": [
      "CIFAR-10 Dataset: 171MB [02:19, 1.22MB/s]                                                                                                                                                                                                                   \n"
     ]
    },
    {
     "name": "stdout",
     "output_type": "stream",
     "text": [
      "All files found!\n"
     ]
    }
   ],
   "source": [
    "\"\"\"\n",
    "DON'T MODIFY ANYTHING IN THIS CELL THAT IS BELOW THIS LINE\n",
    "\"\"\"\n",
    "from urllib.request import urlretrieve\n",
    "from os.path import isfile, isdir\n",
    "from tqdm import tqdm\n",
    "import problem_unittests as tests\n",
    "import tarfile\n",
    "\n",
    "cifar10_dataset_folder_path = 'cifar-10-batches-py'\n",
    "\n",
    "class DLProgress(tqdm):\n",
    "    last_block = 0\n",
    "\n",
    "    def hook(self, block_num=1, block_size=1, total_size=None):\n",
    "        self.total = total_size\n",
    "        self.update((block_num - self.last_block) * block_size)\n",
    "        self.last_block = block_num\n",
    "\n",
    "if not isfile('cifar-10-python.tar.gz'):\n",
    "    with DLProgress(unit='B', unit_scale=True, miniters=1, desc='CIFAR-10 Dataset') as pbar:\n",
    "        urlretrieve(\n",
    "            'https://www.cs.toronto.edu/~kriz/cifar-10-python.tar.gz',\n",
    "            'cifar-10-python.tar.gz',\n",
    "            pbar.hook)\n",
    "\n",
    "if not isdir(cifar10_dataset_folder_path):\n",
    "    with tarfile.open('cifar-10-python.tar.gz') as tar:\n",
    "        tar.extractall()\n",
    "        tar.close()\n",
    "\n",
    "\n",
    "tests.test_folder_path(cifar10_dataset_folder_path)"
   ]
  },
  {
   "cell_type": "markdown",
   "metadata": {},
   "source": [
    "## Explore the Data\n",
    "The dataset is broken into batches to prevent your machine from running out of memory.  The CIFAR-10 dataset consists of 5 batches, named `data_batch_1`, `data_batch_2`, etc.. Each batch contains the labels and images that are one of the following:\n",
    "* airplane\n",
    "* automobile\n",
    "* bird\n",
    "* cat\n",
    "* deer\n",
    "* dog\n",
    "* frog\n",
    "* horse\n",
    "* ship\n",
    "* truck\n",
    "\n",
    "Understanding a dataset is part of making predictions on the data.  Play around with the code cell below by changing the `batch_id` and `sample_id`. The `batch_id` is the id for a batch (1-5). The `sample_id` is the id for a image and label pair in the batch.\n",
    "\n",
    "Ask yourself \"What are all possible labels?\", \"What is the range of values for the image data?\", \"Are the labels in order or random?\".  Answers to questions like these will help you preprocess the data and end up with better predictions."
   ]
  },
  {
   "cell_type": "code",
   "execution_count": 2,
   "metadata": {},
   "outputs": [
    {
     "name": "stdout",
     "output_type": "stream",
     "text": [
      "\n",
      "Stats of batch 1:\n",
      "Samples: 10000\n",
      "Label Counts: {0: 1005, 1: 974, 2: 1032, 3: 1016, 4: 999, 5: 937, 6: 1030, 7: 1001, 8: 1025, 9: 981}\n",
      "First 20 Labels: [6, 9, 9, 4, 1, 1, 2, 7, 8, 3, 4, 7, 7, 2, 9, 9, 9, 3, 2, 6]\n",
      "\n",
      "Example of Image 5:\n",
      "Image - Min Value: 0 Max Value: 252\n",
      "Image - Shape: (32, 32, 3)\n",
      "Label - Label Id: 1 Name: automobile\n"
     ]
    },
    {
     "data": {
      "image/png": "[encoded data removed]",
      "text/plain": [
       "<matplotlib.figure.Figure at 0x21b8a684198>"
      ]
     },
     "metadata": {
      "image/png": {
       "height": 250,
       "width": 253
      }
     },
     "output_type": "display_data"
    }
   ],
   "source": [
    "%matplotlib inline\n",
    "%config InlineBackend.figure_format = 'retina'\n",
    "\n",
    "import helper\n",
    "import numpy as np\n",
    "\n",
    "# Explore the dataset\n",
    "batch_id = 1\n",
    "sample_id = 5\n",
    "helper.display_stats(cifar10_dataset_folder_path, batch_id, sample_id)"
   ]
  },
  {
   "cell_type": "markdown",
   "metadata": {},
   "source": [
    "## Implement Preprocess Functions\n",
    "### Normalize\n",
    "In the cell below, implement the `normalize` function to take in image data, `x`, and return it as a normalized Numpy array. The values should be in the range of 0 to 1, inclusive.  The return object should be the same shape as `x`."
   ]
  },
  {
   "cell_type": "code",
   "execution_count": 3,
   "metadata": {},
   "outputs": [
    {
     "name": "stdout",
     "output_type": "stream",
     "text": [
      "Tests Passed\n"
     ]
    }
   ],
   "source": [
    "def normalize(x):\n",
    "    \"\"\"\n",
    "    Normalize a list of sample image data in the range of 0 to 1\n",
    "    : x: List of image data.  The image shape is (32, 32, 3)\n",
    "    : return: Numpy array of normalize data\n",
    "    \"\"\"\n",
    "    # TODO: Implement Function\n",
    "    return x / 255\n",
    "\n",
    "\n",
    "\"\"\"\n",
    "DON'T MODIFY ANYTHING IN THIS CELL THAT IS BELOW THIS LINE\n",
    "\"\"\"\n",
    "tests.test_normalize(normalize)"
   ]
  },
  {
   "cell_type": "markdown",
   "metadata": {},
   "source": [
    "### One-hot encode\n",
    "Just like the previous code cell, you'll be implementing a function for preprocessing.  This time, you'll implement the `one_hot_encode` function. The input, `x`, are a list of labels.  Implement the function to return the list of labels as One-Hot encoded Numpy array.  The possible values for labels are 0 to 9. The one-hot encoding function should return the same encoding for each value between each call to `one_hot_encode`.  Make sure to save the map of encodings outside the function.\n",
    "\n",
    "Hint: Don't reinvent the wheel."
   ]
  },
  {
   "cell_type": "code",
   "execution_count": 4,
   "metadata": {},
   "outputs": [
    {
     "name": "stdout",
     "output_type": "stream",
     "text": [
      "Tests Passed\n"
     ]
    }
   ],
   "source": [
    "MAP = np.eye(10)\n",
    "\n",
    "def one_hot_encode(xs):\n",
    "    \"\"\"\n",
    "    One hot encode a list of sample labels. Return a one-hot encoded vector for each label.\n",
    "    : x: List of sample Labels\n",
    "    : return: Numpy array of one-hot encoded labels\n",
    "    \"\"\"\n",
    "    # TODO: Implement Function\n",
    "    return np.vstack([MAP[x,:] for x in xs])\n",
    "\n",
    "\n",
    "\"\"\"\n",
    "DON'T MODIFY ANYTHING IN THIS CELL THAT IS BELOW THIS LINE\n",
    "\"\"\"\n",
    "tests.test_one_hot_encode(one_hot_encode)"
   ]
  },
  {
   "cell_type": "markdown",
   "metadata": {},
   "source": [
    "### Randomize Data\n",
    "As you saw from exploring the data above, the order of the samples are randomized.  It doesn't hurt to randomize it again, but you don't need to for this dataset."
   ]
  },
  {
   "cell_type": "markdown",
   "metadata": {},
   "source": [
    "## Preprocess all the data and save it\n",
    "Running the code cell below will preprocess all the CIFAR-10 data and save it to file. The code below also uses 10% of the training data for validation."
   ]
  },
  {
   "cell_type": "code",
   "execution_count": 5,
   "metadata": {},
   "outputs": [],
   "source": [
    "\"\"\"\n",
    "DON'T MODIFY ANYTHING IN THIS CELL\n",
    "\"\"\"\n",
    "# Preprocess Training, Validation, and Testing Data\n",
    "helper.preprocess_and_save_data(cifar10_dataset_folder_path, normalize, one_hot_encode)"
   ]
  },
  {
   "cell_type": "markdown",
   "metadata": {},
   "source": [
    "# Check Point\n",
    "This is your first checkpoint.  If you ever decide to come back to this notebook or have to restart the notebook, you can start from here.  The preprocessed data has been saved to disk."
   ]
  },
  {
   "cell_type": "code",
   "execution_count": 7,
   "metadata": {
    "collapsed": true
   },
   "outputs": [],
   "source": [
    "\"\"\"\n",
    "DON'T MODIFY ANYTHING IN THIS CELL\n",
    "\"\"\"\n",
    "import pickle\n",
    "import problem_unittests as tests\n",
    "import helper\n",
    "\n",
    "# Load the Preprocessed Validation data\n",
    "valid_features, valid_labels = pickle.load(open('preprocess_validation.p', mode='rb'))"
   ]
  },
  {
   "cell_type": "markdown",
   "metadata": {},
   "source": [
    "## Build the network\n",
    "For the neural network, you'll build each layer into a function.  Most of the code you've seen has been outside of functions. To test your code more thoroughly, we require that you put each layer in a function.  This allows us to give you better feedback and test for simple mistakes using our unittests before you submit your project.\n",
    "\n",
    "If you're finding it hard to dedicate enough time for this course a week, we've provided a small shortcut to this part of the project. In the next couple of problems, you'll have the option to use [TensorFlow Layers](https://www.tensorflow.org/api_docs/python/tf/layers) or [TensorFlow Layers (contrib)](https://www.tensorflow.org/api_guides/python/contrib.layers) to build each layer, except \"Convolutional & Max Pooling\" layer.  TF Layers is similar to Keras's and TFLearn's abstraction to layers, so it's easy to pickup.\n",
    "\n",
    "If you would like to get the most of this course, try to solve all the problems without TF Layers.  Let's begin!\n",
    "### Input\n",
    "The neural network needs to read the image data, one-hot encoded labels, and dropout keep probability. Implement the following functions\n",
    "* Implement `neural_net_image_input`\n",
    " * Return a [TF Placeholder](https://www.tensorflow.org/api_docs/python/tf/placeholder)\n",
    " * Set the shape using `image_shape` with batch size set to `None`.\n",
    " * Name the TensorFlow placeholder \"x\" using the TensorFlow `name` parameter in the [TF Placeholder](https://www.tensorflow.org/api_docs/python/tf/placeholder).\n",
    "* Implement `neural_net_label_input`\n",
    " * Return a [TF Placeholder](https://www.tensorflow.org/api_docs/python/tf/placeholder)\n",
    " * Set the shape using `n_classes` with batch size set to `None`.\n",
    " * Name the TensorFlow placeholder \"y\" using the TensorFlow `name` parameter in the [TF Placeholder](https://www.tensorflow.org/api_docs/python/tf/placeholder).\n",
    "* Implement `neural_net_keep_prob_input`\n",
    " * Return a [TF Placeholder](https://www.tensorflow.org/api_docs/python/tf/placeholder) for dropout keep probability.\n",
    " * Name the TensorFlow placeholder \"keep_prob\" using the TensorFlow `name` parameter in the [TF Placeholder](https://www.tensorflow.org/api_docs/python/tf/placeholder).\n",
    "\n",
    "These names will be used at the end of the project to load your saved model.\n",
    "\n",
    "Note: `None` for shapes in TensorFlow allow for a dynamic size."
   ]
  },
  {
   "cell_type": "code",
   "execution_count": 8,
   "metadata": {},
   "outputs": [
    {
     "name": "stdout",
     "output_type": "stream",
     "text": [
      "Image Input Tests Passed.\n",
      "Label Input Tests Passed.\n",
      "Keep Prob Tests Passed.\n"
     ]
    }
   ],
   "source": [
    "import tensorflow as tf\n",
    "\n",
    "def neural_net_image_input(image_shape):\n",
    "    \"\"\"\n",
    "    Return a Tensor for a bach of image input\n",
    "    : image_shape: Shape of the images\n",
    "    : return: Tensor for image input.\n",
    "    \"\"\"\n",
    "    # TODO: Implement Function\n",
    "    return tf.placeholder(tf.float32, shape=(None, *image_shape), name='x')\n",
    "\n",
    "\n",
    "def neural_net_label_input(n_classes):\n",
    "    \"\"\"\n",
    "    Return a Tensor for a batch of label input\n",
    "    : n_classes: Number of classes\n",
    "    : return: Tensor for label input.\n",
    "    \"\"\"\n",
    "    # TODO: Implement Function\n",
    "    return tf.placeholder(tf.float32, shape=(None, n_classes), name='y')\n",
    "\n",
    "\n",
    "def neural_net_keep_prob_input():\n",
    "    \"\"\"\n",
    "    Return a Tensor for keep probability\n",
    "    : return: Tensor for keep probability.\n",
    "    \"\"\"\n",
    "    # TODO: Implement Function\n",
    "    return tf.placeholder(tf.float32, name='keep_prob')\n",
    "\n",
    "\n",
    "\"\"\"\n",
    "DON'T MODIFY ANYTHING IN THIS CELL THAT IS BELOW THIS LINE\n",
    "\"\"\"\n",
    "tf.reset_default_graph()\n",
    "tests.test_nn_image_inputs(neural_net_image_input)\n",
    "tests.test_nn_label_inputs(neural_net_label_input)\n",
    "tests.test_nn_keep_prob_inputs(neural_net_keep_prob_input)"
   ]
  },
  {
   "cell_type": "markdown",
   "metadata": {},
   "source": [
    "### Convolution and Max Pooling Layer\n",
    "Convolution layers have a lot of success with images. For this code cell, you should implement the function `conv2d_maxpool` to apply convolution then max pooling:\n",
    "* Create the weight and bias using `conv_ksize`, `conv_num_outputs` and the shape of `x_tensor`.\n",
    "* Apply a convolution to `x_tensor` using weight and `conv_strides`.\n",
    " * We recommend you use same padding, but you're welcome to use any padding.\n",
    "* Add bias\n",
    "* Add a nonlinear activation to the convolution.\n",
    "* Apply Max Pooling using `pool_ksize` and `pool_strides`.\n",
    " * We recommend you use same padding, but you're welcome to use any padding.\n",
    "\n",
    "Note: You **can't** use [TensorFlow Layers](https://www.tensorflow.org/api_docs/python/tf/layers) or [TensorFlow Layers (contrib)](https://www.tensorflow.org/api_guides/python/contrib.layers) for this layer.  You're free to use any TensorFlow package for all the other layers."
   ]
  },
  {
   "cell_type": "code",
   "execution_count": 9,
   "metadata": {},
   "outputs": [
    {
     "name": "stdout",
     "output_type": "stream",
     "text": [
      "Tests Passed\n"
     ]
    }
   ],
   "source": [
    "MEAN_INIT = 0.001\n",
    "STDDEV_INIT = 0.05\n",
    "\n",
    "def conv2d_maxpool(x_tensor, conv_num_outputs, conv_ksize, conv_strides, pool_ksize, pool_strides):\n",
    "    \"\"\"\n",
    "    Apply convolution then max pooling to x_tensor\n",
    "    :param x_tensor: TensorFlow Tensor\n",
    "    :param conv_num_outputs: Number of outputs for the convolutional layer\n",
    "    :param conv_strides: Stride 2-D Tuple for convolution\n",
    "    :param pool_ksize: kernel size 2-D Tuple for pool\n",
    "    :param pool_strides: Stride 2-D Tuple for pool\n",
    "    :return: A tensor that represents convolution and max pooling of x_tensor\n",
    "    \"\"\"\n",
    "    # TODO: Implement Function\n",
    "    x_batch, x_height, x_width, x_depth = x_tensor.shape\n",
    "    filter_weights = tf.Variable(tf.truncated_normal(mean=MEAN_INIT, stddev=STDDEV_INIT, shape=[*conv_ksize, x_depth.value, conv_num_outputs]))\n",
    "    bias = tf.Variable(tf.truncated_normal(mean=MEAN_INIT, stddev=STDDEV_INIT, shape=[conv_num_outputs]))\n",
    "    x_tensor = tf.nn.conv2d(x_tensor, filter_weights, strides=[1, *conv_strides, 1], padding='SAME')\n",
    "    x_tensor = tf.nn.bias_add(x_tensor, bias)\n",
    "    x_tensor = tf.nn.relu(x_tensor)\n",
    "    x_tensor = tf.nn.max_pool(x_tensor, ksize=[1, *pool_ksize, 1], strides=[1, *pool_strides, 1], padding='SAME')\n",
    "    return x_tensor \n",
    "\n",
    "\n",
    "\"\"\"\n",
    "DON'T MODIFY ANYTHING IN THIS CELL THAT IS BELOW THIS LINE\n",
    "\"\"\"\n",
    "tests.test_con_pool(conv2d_maxpool)"
   ]
  },
  {
   "cell_type": "markdown",
   "metadata": {},
   "source": [
    "### Flatten Layer\n",
    "Implement the `flatten` function to change the dimension of `x_tensor` from a 4-D tensor to a 2-D tensor.  The output should be the shape (*Batch Size*, *Flattened Image Size*). You can use [TensorFlow Layers](https://www.tensorflow.org/api_docs/python/tf/layers) or [TensorFlow Layers (contrib)](https://www.tensorflow.org/api_guides/python/contrib.layers) for this layer."
   ]
  },
  {
   "cell_type": "code",
   "execution_count": 10,
   "metadata": {},
   "outputs": [
    {
     "name": "stdout",
     "output_type": "stream",
     "text": [
      "Tests Passed\n"
     ]
    }
   ],
   "source": [
    "from functools import reduce\n",
    "\n",
    "def flatten(x_tensor):\n",
    "    \"\"\"\n",
    "    Flatten x_tensor to (Batch Size, Flattened Image Size)\n",
    "    : x_tensor: A tensor of size (Batch Size, ...), where ... are the image dimensions.\n",
    "    : return: A tensor of size (Batch Size, Flattened Image Size).\n",
    "    \"\"\"\n",
    "    # TODO: Implement Function\n",
    "    dim = reduce(lambda x, y: x*y, x_tensor.shape[1:])\n",
    "    return tf.reshape(x_tensor, [-1, dim.value])\n",
    "\n",
    "\n",
    "\"\"\"\n",
    "DON'T MODIFY ANYTHING IN THIS CELL THAT IS BELOW THIS LINE\n",
    "\"\"\"\n",
    "tests.test_flatten(flatten)"
   ]
  },
  {
   "cell_type": "markdown",
   "metadata": {},
   "source": [
    "### Fully-Connected Layer\n",
    "Implement the `fully_conn` function to apply a fully connected layer to `x_tensor` with the shape (*Batch Size*, *num_outputs*). You can use [TensorFlow Layers](https://www.tensorflow.org/api_docs/python/tf/layers) or [TensorFlow Layers (contrib)](https://www.tensorflow.org/api_guides/python/contrib.layers) for this layer."
   ]
  },
  {
   "cell_type": "code",
   "execution_count": 11,
   "metadata": {},
   "outputs": [
    {
     "name": "stdout",
     "output_type": "stream",
     "text": [
      "Tests Passed\n"
     ]
    }
   ],
   "source": [
    "def fully_conn(x_tensor, num_outputs):\n",
    "    \"\"\"\n",
    "    Apply a fully connected layer to x_tensor using weight and bias\n",
    "    : x_tensor: A 2-D tensor where the first dimension is batch size.\n",
    "    : num_outputs: The number of output that the new tensor should be.\n",
    "    : return: A 2-D tensor where the second dimension is num_outputs.\n",
    "    \"\"\"\n",
    "    weights = tf.Variable(tf.truncated_normal(mean=MEAN_INIT, stddev=STDDEV_INIT, shape=[x_tensor.shape[1].value, num_outputs]))\n",
    "    bias = tf.Variable(tf.truncated_normal(mean=MEAN_INIT, stddev=STDDEV_INIT, shape=[num_outputs]))\n",
    "    return tf.nn.relu(tf.add(tf.matmul(x_tensor, weights), bias))\n",
    "\n",
    "\n",
    "\"\"\"\n",
    "DON'T MODIFY ANYTHING IN THIS CELL THAT IS BELOW THIS LINE\n",
    "\"\"\"\n",
    "tests.test_fully_conn(fully_conn)"
   ]
  },
  {
   "cell_type": "markdown",
   "metadata": {},
   "source": [
    "### Output Layer\n",
    "Implement the `output` function to apply a fully connected layer to `x_tensor` with the shape (*Batch Size*, *num_outputs*). You can use [TensorFlow Layers](https://www.tensorflow.org/api_docs/python/tf/layers) or [TensorFlow Layers (contrib)](https://www.tensorflow.org/api_guides/python/contrib.layers) for this layer.\n",
    "\n",
    "Note: Activation, softmax, or cross entropy shouldn't be applied to this."
   ]
  },
  {
   "cell_type": "code",
   "execution_count": 12,
   "metadata": {},
   "outputs": [
    {
     "name": "stdout",
     "output_type": "stream",
     "text": [
      "Tests Passed\n"
     ]
    }
   ],
   "source": [
    "def output(x_tensor, num_outputs):\n",
    "    \"\"\"\n",
    "    Apply a output layer to x_tensor using weight and bias\n",
    "    : x_tensor: A 2-D tensor where the first dimension is batch size.\n",
    "    : num_outputs: The number of output that the new tensor should be.\n",
    "    : return: A 2-D tensor where the second dimension is num_outputs.\n",
    "    \"\"\"\n",
    "    # TODO: Implement Function\n",
    "    weights = tf.Variable(tf.truncated_normal(mean=MEAN_INIT, stddev=STDDEV_INIT, shape=[x_tensor.shape[1].value, num_outputs]))\n",
    "    bias = tf.Variable(tf.truncated_normal(mean=MEAN_INIT, stddev=STDDEV_INIT, shape=[num_outputs]))\n",
    "    return tf.add(tf.matmul(x_tensor, weights), bias)\n",
    "\n",
    "\n",
    "\"\"\"\n",
    "DON'T MODIFY ANYTHING IN THIS CELL THAT IS BELOW THIS LINE\n",
    "\"\"\"\n",
    "tests.test_output(output)"
   ]
  },
  {
   "cell_type": "markdown",
   "metadata": {},
   "source": [
    "### Create Convolutional Model\n",
    "Implement the function `conv_net` to create a convolutional neural network model. The function takes in a batch of images, `x`, and outputs logits.  Use the layers you created above to create this model:\n",
    "\n",
    "* Apply 1, 2, or 3 Convolution and Max Pool layers\n",
    "* Apply a Flatten Layer\n",
    "* Apply 1, 2, or 3 Fully Connected Layers\n",
    "* Apply an Output Layer\n",
    "* Return the output\n",
    "* Apply [TensorFlow's Dropout](https://www.tensorflow.org/api_docs/python/tf/nn/dropout) to one or more layers in the model using `keep_prob`. "
   ]
  },
  {
   "cell_type": "code",
   "execution_count": 14,
   "metadata": {},
   "outputs": [
    {
     "name": "stdout",
     "output_type": "stream",
     "text": [
      "Final shape is: 1024\n",
      "Final shape is: 1024\n",
      "Neural Network Built!\n"
     ]
    }
   ],
   "source": [
    "def conv_net(x, keep_prob):\n",
    "    \"\"\"\n",
    "    Create a convolutional neural network model\n",
    "    : x: Placeholder tensor that holds image data.\n",
    "    : keep_prob: Placeholder tensor that hold dropout keep probability.\n",
    "    : return: Tensor that represents logits\n",
    "    \"\"\"\n",
    "    # TODO: Apply 1, 2, or 3 Convolution and Max Pool layers\n",
    "    #    Play around with different number of outputs, kernel size and stride\n",
    "    # Function Definition from Above:\n",
    "    #    conv2d_maxpool(x_tensor, conv_num_outputs, conv_ksize, conv_strides, pool_ksize, pool_strides)\n",
    "    x = conv2d_maxpool(x, 16, (5, 5), (1, 1), (2, 2), (2, 2))\n",
    "    x = conv2d_maxpool(x, 32, (5, 5), (1, 1), (2, 2), (2, 2))\n",
    "    x = conv2d_maxpool(x, 64, (5, 5), (1, 1), (2, 2), (2, 2))\n",
    "    \n",
    "    # TODO: Apply a Flatten Layer\n",
    "    # Function Definition from Above:\n",
    "    x = flatten(x)\n",
    "    \n",
    "    print(\"Final shape is: {}\".format(x.shape[1]))\n",
    "    # TODO: Apply 1, 2, or 3 Fully Connected Layers\n",
    "    #    Play around with different number of outputs\n",
    "    # Function Definition from Above:\n",
    "    x = fully_conn(x, num_outputs=786)\n",
    "    x = fully_conn(x, num_outputs=786)\n",
    "    x = tf.nn.dropout(x, keep_prob)\n",
    "    \n",
    "    # TODO: Apply an Output Layer\n",
    "    #    Set this to the number of classes\n",
    "    # Function Definition from Above:\n",
    "    x = output(x, num_outputs=10)\n",
    "    \n",
    "    # TODO: return output\n",
    "    return x\n",
    "\n",
    "\n",
    "\"\"\"\n",
    "DON'T MODIFY ANYTHING IN THIS CELL THAT IS BELOW THIS LINE\n",
    "\"\"\"\n",
    "\n",
    "##############################\n",
    "## Build the Neural Network ##\n",
    "##############################\n",
    "\n",
    "# Remove previous weights, bias, inputs, etc..\n",
    "tf.reset_default_graph()\n",
    "\n",
    "# Inputs\n",
    "x = neural_net_image_input((32, 32, 3))\n",
    "y = neural_net_label_input(10)\n",
    "keep_prob = neural_net_keep_prob_input()\n",
    "\n",
    "# Model\n",
    "logits = conv_net(x, keep_prob)\n",
    "\n",
    "# Name logits Tensor, so that is can be loaded from disk after training\n",
    "logits = tf.identity(logits, name='logits')\n",
    "\n",
    "# Loss and Optimizer\n",
    "cost = tf.reduce_mean(tf.nn.softmax_cross_entropy_with_logits(logits=logits, labels=y))\n",
    "optimizer = tf.train.AdamOptimizer().minimize(cost)\n",
    "\n",
    "# Accuracy\n",
    "correct_pred = tf.equal(tf.argmax(logits, 1), tf.argmax(y, 1))\n",
    "accuracy = tf.reduce_mean(tf.cast(correct_pred, tf.float32), name='accuracy')\n",
    "\n",
    "tests.test_conv_net(conv_net)"
   ]
  },
  {
   "cell_type": "markdown",
   "metadata": {},
   "source": [
    "## Train the Neural Network\n",
    "### Single Optimization\n",
    "Implement the function `train_neural_network` to do a single optimization.  The optimization should use `optimizer` to optimize in `session` with a `feed_dict` of the following:\n",
    "* `x` for image input\n",
    "* `y` for labels\n",
    "* `keep_prob` for keep probability for dropout\n",
    "\n",
    "This function will be called for each batch, so `tf.global_variables_initializer()` has already been called.\n",
    "\n",
    "Note: Nothing needs to be returned. This function is only optimizing the neural network."
   ]
  },
  {
   "cell_type": "code",
   "execution_count": 15,
   "metadata": {},
   "outputs": [
    {
     "name": "stdout",
     "output_type": "stream",
     "text": [
      "Tests Passed\n"
     ]
    }
   ],
   "source": [
    "def train_neural_network(session, optimizer, keep_probability, feature_batch, label_batch):\n",
    "    \"\"\"\n",
    "    Optimize the session on a batch of images and labels\n",
    "    : session: Current TensorFlow session\n",
    "    : optimizer: TensorFlow optimizer function\n",
    "    : keep_probability: keep probability\n",
    "    : feature_batch: Batch of Numpy image data\n",
    "    : label_batch: Batch of Numpy label data\n",
    "    \"\"\"\n",
    "    # TODO: Implement Function\n",
    "    feed_dict = {'keep_prob:0': keep_probability, 'x:0': feature_batch, 'y:0': label_batch}\n",
    "    session.run(optimizer, feed_dict=feed_dict)\n",
    "\n",
    "\"\"\"\n",
    "DON'T MODIFY ANYTHING IN THIS CELL THAT IS BELOW THIS LINE\n",
    "\"\"\"\n",
    "tests.test_train_nn(train_neural_network)"
   ]
  },
  {
   "cell_type": "markdown",
   "metadata": {},
   "source": [
    "### Show Stats\n",
    "Implement the function `print_stats` to print loss and validation accuracy.  Use the global variables `valid_features` and `valid_labels` to calculate validation accuracy.  Use a keep probability of `1.0` to calculate the loss and validation accuracy."
   ]
  },
  {
   "cell_type": "code",
   "execution_count": 16,
   "metadata": {},
   "outputs": [],
   "source": [
    "def print_stats(session, feature_batch, label_batch, cost, accuracy):\n",
    "    \"\"\"\n",
    "    Print information about loss and validation accuracy\n",
    "    : session: Current TensorFlow session\n",
    "    : feature_batch: Batch of Numpy image data\n",
    "    : label_batch: Batch of Numpy label data\n",
    "    : cost: TensorFlow cost function\n",
    "    : accuracy: TensorFlow accuracy function\n",
    "    \"\"\"\n",
    "    # TODO: Implement Function\n",
    "    feed_cost = {'keep_prob:0': 1.0, 'x:0': feature_batch, 'y:0': label_batch}\n",
    "    feed_valid = {'keep_prob:0': 1.0, 'x:0': valid_features, 'y:0': valid_labels}\n",
    "    cost = session.run(cost, feed_dict=feed_cost)\n",
    "    accuracy = session.run(accuracy, feed_dict=feed_valid)\n",
    "    print(\"cost: {}, accuracy: {}\".format(cost, accuracy))"
   ]
  },
  {
   "cell_type": "markdown",
   "metadata": {},
   "source": [
    "### Hyperparameters\n",
    "Tune the following parameters:\n",
    "* Set `epochs` to the number of iterations until the network stops learning or start overfitting\n",
    "* Set `batch_size` to the highest number that your machine has memory for.  Most people set them to common sizes of memory:\n",
    " * 64\n",
    " * 128\n",
    " * 256\n",
    " * ...\n",
    "* Set `keep_probability` to the probability of keeping a node using dropout"
   ]
  },
  {
   "cell_type": "code",
   "execution_count": 17,
   "metadata": {
    "collapsed": true
   },
   "outputs": [],
   "source": [
    "# TODO: Tune Parameters\n",
    "epochs = 50\n",
    "batch_size = 128\n",
    "keep_probability = 0.8"
   ]
  },
  {
   "cell_type": "markdown",
   "metadata": {},
   "source": [
    "### Train on a Single CIFAR-10 Batch\n",
    "Instead of training the neural network on all the CIFAR-10 batches of data, let's use a single batch. This should save time while you iterate on the model to get a better accuracy.  Once the final validation accuracy is 50% or greater, run the model on all the data in the next section."
   ]
  },
  {
   "cell_type": "code",
   "execution_count": 18,
   "metadata": {},
   "outputs": [
    {
     "name": "stdout",
     "output_type": "stream",
     "text": [
      "Checking the Training on a Single Batch...\n",
      "Epoch  1, CIFAR-10 Batch 1:  cost: 2.0342228412628174, accuracy: 0.3125999867916107\n",
      "Epoch  2, CIFAR-10 Batch 1:  cost: 1.7866967916488647, accuracy: 0.40540000796318054\n",
      "Epoch  3, CIFAR-10 Batch 1:  cost: 1.458866834640503, accuracy: 0.4684000015258789\n",
      "Epoch  4, CIFAR-10 Batch 1:  cost: 1.1245195865631104, accuracy: 0.4986000061035156\n",
      "Epoch  5, CIFAR-10 Batch 1:  cost: 0.9731729626655579, accuracy: 0.5055999755859375\n",
      "Epoch  6, CIFAR-10 Batch 1:  cost: 0.8360252380371094, accuracy: 0.5171999931335449\n",
      "Epoch  7, CIFAR-10 Batch 1:  cost: 0.7084120512008667, accuracy: 0.5004000067710876\n",
      "Epoch  8, CIFAR-10 Batch 1:  cost: 0.607487142086029, accuracy: 0.5180000066757202\n",
      "Epoch  9, CIFAR-10 Batch 1:  cost: 0.43917378783226013, accuracy: 0.5383999943733215\n",
      "Epoch 10, CIFAR-10 Batch 1:  cost: 0.3247980773448944, accuracy: 0.5515999794006348\n",
      "Epoch 11, CIFAR-10 Batch 1:  cost: 0.23048844933509827, accuracy: 0.5577999949455261\n",
      "Epoch 12, CIFAR-10 Batch 1:  cost: 0.23856651782989502, accuracy: 0.545199990272522\n",
      "Epoch 13, CIFAR-10 Batch 1:  cost: 0.1537410020828247, accuracy: 0.5424000024795532\n",
      "Epoch 14, CIFAR-10 Batch 1:  cost: 0.11809922754764557, accuracy: 0.5591999888420105\n",
      "Epoch 15, CIFAR-10 Batch 1:  cost: 0.0683383196592331, accuracy: 0.551800012588501\n",
      "Epoch 16, CIFAR-10 Batch 1:  cost: 0.04241283982992172, accuracy: 0.5468000173568726\n",
      "Epoch 17, CIFAR-10 Batch 1:  cost: 0.0706094354391098, accuracy: 0.5371999740600586\n",
      "Epoch 18, CIFAR-10 Batch 1:  cost: 0.013544896617531776, accuracy: 0.557200014591217\n",
      "Epoch 19, CIFAR-10 Batch 1:  cost: 0.01777297630906105, accuracy: 0.5026000142097473\n",
      "Epoch 20, CIFAR-10 Batch 1:  cost: 0.024865377694368362, accuracy: 0.5235999822616577\n",
      "Epoch 21, CIFAR-10 Batch 1:  cost: 0.00688527524471283, accuracy: 0.5400000214576721\n",
      "Epoch 22, CIFAR-10 Batch 1:  cost: 0.004891226999461651, accuracy: 0.5368000268936157\n",
      "Epoch 23, CIFAR-10 Batch 1:  cost: 0.012306871823966503, accuracy: 0.5365999937057495\n",
      "Epoch 24, CIFAR-10 Batch 1:  cost: 0.009878801181912422, accuracy: 0.5342000126838684\n",
      "Epoch 25, CIFAR-10 Batch 1:  cost: 0.005659602116793394, accuracy: 0.5379999876022339\n",
      "Epoch 26, CIFAR-10 Batch 1:  cost: 0.003971649333834648, accuracy: 0.5422000288963318\n",
      "Epoch 27, CIFAR-10 Batch 1:  cost: 0.006297496613115072, accuracy: 0.5562000274658203\n",
      "Epoch 28, CIFAR-10 Batch 1:  cost: 0.002377178054302931, accuracy: 0.5544000267982483\n",
      "Epoch 29, CIFAR-10 Batch 1:  cost: 0.0015702499076724052, accuracy: 0.5587999820709229\n",
      "Epoch 30, CIFAR-10 Batch 1:  cost: 0.0008114204974845052, accuracy: 0.545199990272522\n",
      "Epoch 31, CIFAR-10 Batch 1:  cost: 0.0009419921552762389, accuracy: 0.5523999929428101\n",
      "Epoch 32, CIFAR-10 Batch 1:  cost: 0.0004437781753949821, accuracy: 0.5284000039100647\n",
      "Epoch 33, CIFAR-10 Batch 1:  cost: 0.0021216687746345997, accuracy: 0.5450000166893005\n",
      "Epoch 34, CIFAR-10 Batch 1:  cost: 0.00022492515563499182, accuracy: 0.5684000253677368\n",
      "Epoch 35, CIFAR-10 Batch 1:  cost: 0.0003362779098097235, accuracy: 0.557200014591217\n",
      "Epoch 36, CIFAR-10 Batch 1:  cost: 0.003741034073755145, accuracy: 0.553600013256073\n",
      "Epoch 37, CIFAR-10 Batch 1:  cost: 0.0036943305749446154, accuracy: 0.5709999799728394\n",
      "Epoch 38, CIFAR-10 Batch 1:  cost: 0.0009469431824982166, accuracy: 0.5631999969482422\n",
      "Epoch 39, CIFAR-10 Batch 1:  cost: 0.00029831117717549205, accuracy: 0.5717999935150146\n",
      "Epoch 40, CIFAR-10 Batch 1:  cost: 0.001529075438156724, accuracy: 0.5659999847412109\n",
      "Epoch 41, CIFAR-10 Batch 1:  cost: 6.428227061405778e-05, accuracy: 0.5740000009536743\n",
      "Epoch 42, CIFAR-10 Batch 1:  cost: 0.0002062522544292733, accuracy: 0.5663999915122986\n",
      "Epoch 43, CIFAR-10 Batch 1:  cost: 0.0026558912359178066, accuracy: 0.5576000213623047\n",
      "Epoch 44, CIFAR-10 Batch 1:  cost: 0.004067299421876669, accuracy: 0.5401999950408936\n",
      "Epoch 45, CIFAR-10 Batch 1:  cost: 0.0017724655335769057, accuracy: 0.5324000120162964\n",
      "Epoch 46, CIFAR-10 Batch 1:  cost: 0.0004037426260765642, accuracy: 0.5618000030517578\n",
      "Epoch 47, CIFAR-10 Batch 1:  cost: 0.0010537945199757814, accuracy: 0.5630000233650208\n",
      "Epoch 48, CIFAR-10 Batch 1:  cost: 0.00022294922382570803, accuracy: 0.5702000260353088\n",
      "Epoch 49, CIFAR-10 Batch 1:  cost: 0.000489283527713269, accuracy: 0.5587999820709229\n",
      "Epoch 50, CIFAR-10 Batch 1:  cost: 0.001119815045967698, accuracy: 0.5583999752998352\n"
     ]
    }
   ],
   "source": [
    "\"\"\"\n",
    "DON'T MODIFY ANYTHING IN THIS CELL\n",
    "\"\"\"\n",
    "print('Checking the Training on a Single Batch...')\n",
    "with tf.Session() as sess:\n",
    "    # Initializing the variables\n",
    "    sess.run(tf.global_variables_initializer())\n",
    "    \n",
    "    # Training cycle\n",
    "    for epoch in range(epochs):\n",
    "        batch_i = 1  \n",
    "        for batch_features, batch_labels in helper.load_preprocess_training_batch(batch_i, batch_size):\n",
    "            train_neural_network(sess, optimizer, keep_probability, batch_features, batch_labels)\n",
    "        print('Epoch {:>2}, CIFAR-10 Batch {}:  '.format(epoch + 1, batch_i), end='')\n",
    "        print_stats(sess, batch_features, batch_labels, cost, accuracy)"
   ]
  },
  {
   "cell_type": "markdown",
   "metadata": {},
   "source": [
    "### Fully Train the Model\n",
    "Now that you got a good accuracy with a single CIFAR-10 batch, try it with all five batches."
   ]
  },
  {
   "cell_type": "code",
   "execution_count": 19,
   "metadata": {},
   "outputs": [
    {
     "name": "stdout",
     "output_type": "stream",
     "text": [
      "Training...\n",
      "Epoch  1, CIFAR-10 Batch 1:  cost: 2.1209003925323486, accuracy: 0.2919999957084656\n",
      "Epoch  1, CIFAR-10 Batch 2:  cost: 1.7145099639892578, accuracy: 0.4007999897003174\n",
      "Epoch  1, CIFAR-10 Batch 3:  cost: 1.2636467218399048, accuracy: 0.42320001125335693\n",
      "Epoch  1, CIFAR-10 Batch 4:  cost: 1.416640043258667, accuracy: 0.4675999879837036\n",
      "Epoch  1, CIFAR-10 Batch 5:  cost: 1.4387319087982178, accuracy: 0.5023999810218811\n",
      "Epoch  2, CIFAR-10 Batch 1:  cost: 1.4344518184661865, accuracy: 0.5138000249862671\n",
      "Epoch  2, CIFAR-10 Batch 2:  cost: 1.1132373809814453, accuracy: 0.5350000262260437\n",
      "Epoch  2, CIFAR-10 Batch 3:  cost: 0.8767237663269043, accuracy: 0.5527999997138977\n",
      "Epoch  2, CIFAR-10 Batch 4:  cost: 0.952431321144104, accuracy: 0.5529999732971191\n",
      "Epoch  2, CIFAR-10 Batch 5:  cost: 1.1265133619308472, accuracy: 0.5843999981880188\n",
      "Epoch  3, CIFAR-10 Batch 1:  cost: 1.0775681734085083, accuracy: 0.5982000231742859\n",
      "Epoch  3, CIFAR-10 Batch 2:  cost: 0.7996702194213867, accuracy: 0.6025999784469604\n",
      "Epoch  3, CIFAR-10 Batch 3:  cost: 0.6666660904884338, accuracy: 0.5871999859809875\n",
      "Epoch  3, CIFAR-10 Batch 4:  cost: 0.7136164307594299, accuracy: 0.6025999784469604\n",
      "Epoch  3, CIFAR-10 Batch 5:  cost: 0.8334027528762817, accuracy: 0.6205999851226807\n",
      "Epoch  4, CIFAR-10 Batch 1:  cost: 0.845162570476532, accuracy: 0.6096000075340271\n",
      "Epoch  4, CIFAR-10 Batch 2:  cost: 0.5541165471076965, accuracy: 0.621999979019165\n",
      "Epoch  4, CIFAR-10 Batch 3:  cost: 0.5470908284187317, accuracy: 0.6172000169754028\n",
      "Epoch  4, CIFAR-10 Batch 4:  cost: 0.47895240783691406, accuracy: 0.6284000277519226\n",
      "Epoch  4, CIFAR-10 Batch 5:  cost: 0.4807742238044739, accuracy: 0.635200023651123\n",
      "Epoch  5, CIFAR-10 Batch 1:  cost: 0.6393701434135437, accuracy: 0.6204000115394592\n",
      "Epoch  5, CIFAR-10 Batch 2:  cost: 0.4211430549621582, accuracy: 0.6226000189781189\n",
      "Epoch  5, CIFAR-10 Batch 3:  cost: 0.3571223318576813, accuracy: 0.642799973487854\n",
      "Epoch  5, CIFAR-10 Batch 4:  cost: 0.3447520136833191, accuracy: 0.6240000128746033\n",
      "Epoch  5, CIFAR-10 Batch 5:  cost: 0.327926367521286, accuracy: 0.6340000033378601\n",
      "Epoch  6, CIFAR-10 Batch 1:  cost: 0.44642192125320435, accuracy: 0.63919997215271\n",
      "Epoch  6, CIFAR-10 Batch 2:  cost: 0.298442006111145, accuracy: 0.6416000127792358\n",
      "Epoch  6, CIFAR-10 Batch 3:  cost: 0.33149880170822144, accuracy: 0.645799994468689\n",
      "Epoch  6, CIFAR-10 Batch 4:  cost: 0.32942965626716614, accuracy: 0.629800021648407\n",
      "Epoch  6, CIFAR-10 Batch 5:  cost: 0.23151807487010956, accuracy: 0.6442000269889832\n",
      "Epoch  7, CIFAR-10 Batch 1:  cost: 0.30878210067749023, accuracy: 0.6399999856948853\n",
      "Epoch  7, CIFAR-10 Batch 2:  cost: 0.20482555031776428, accuracy: 0.647599995136261\n",
      "Epoch  7, CIFAR-10 Batch 3:  cost: 0.18970553576946259, accuracy: 0.6371999979019165\n",
      "Epoch  7, CIFAR-10 Batch 4:  cost: 0.20497861504554749, accuracy: 0.63919997215271\n",
      "Epoch  7, CIFAR-10 Batch 5:  cost: 0.10773464292287827, accuracy: 0.6600000262260437\n",
      "Epoch  8, CIFAR-10 Batch 1:  cost: 0.1406334936618805, accuracy: 0.6335999965667725\n",
      "Epoch  8, CIFAR-10 Batch 2:  cost: 0.12018046528100967, accuracy: 0.6651999950408936\n",
      "Epoch  8, CIFAR-10 Batch 3:  cost: 0.09497575461864471, accuracy: 0.6492000222206116\n",
      "Epoch  8, CIFAR-10 Batch 4:  cost: 0.11584440618753433, accuracy: 0.6266000270843506\n",
      "Epoch  8, CIFAR-10 Batch 5:  cost: 0.10000820457935333, accuracy: 0.6528000235557556\n",
      "Epoch  9, CIFAR-10 Batch 1:  cost: 0.1764872819185257, accuracy: 0.6309999823570251\n",
      "Epoch  9, CIFAR-10 Batch 2:  cost: 0.08276111632585526, accuracy: 0.6543999910354614\n",
      "Epoch  9, CIFAR-10 Batch 3:  cost: 0.088174007833004, accuracy: 0.656000018119812\n",
      "Epoch  9, CIFAR-10 Batch 4:  cost: 0.08989303559064865, accuracy: 0.6363999843597412\n",
      "Epoch  9, CIFAR-10 Batch 5:  cost: 0.05351778119802475, accuracy: 0.6389999985694885\n",
      "Epoch 10, CIFAR-10 Batch 1:  cost: 0.06480751931667328, accuracy: 0.6309999823570251\n",
      "Epoch 10, CIFAR-10 Batch 2:  cost: 0.12266566604375839, accuracy: 0.6403999924659729\n",
      "Epoch 10, CIFAR-10 Batch 3:  cost: 0.062244705855846405, accuracy: 0.6520000100135803\n",
      "Epoch 10, CIFAR-10 Batch 4:  cost: 0.11401208490133286, accuracy: 0.6367999911308289\n",
      "Epoch 10, CIFAR-10 Batch 5:  cost: 0.06164296716451645, accuracy: 0.6344000101089478\n",
      "Epoch 11, CIFAR-10 Batch 1:  cost: 0.035298414528369904, accuracy: 0.633400022983551\n",
      "Epoch 11, CIFAR-10 Batch 2:  cost: 0.03809642419219017, accuracy: 0.6488000154495239\n",
      "Epoch 11, CIFAR-10 Batch 3:  cost: 0.04223181679844856, accuracy: 0.6269999742507935\n",
      "Epoch 11, CIFAR-10 Batch 4:  cost: 0.024581093341112137, accuracy: 0.6448000073432922\n",
      "Epoch 11, CIFAR-10 Batch 5:  cost: 0.043645597994327545, accuracy: 0.6241999864578247\n",
      "Epoch 12, CIFAR-10 Batch 1:  cost: 0.04682488739490509, accuracy: 0.6359999775886536\n",
      "Epoch 12, CIFAR-10 Batch 2:  cost: 0.02775183878839016, accuracy: 0.6412000060081482\n",
      "Epoch 12, CIFAR-10 Batch 3:  cost: 0.018467573449015617, accuracy: 0.645799994468689\n",
      "Epoch 12, CIFAR-10 Batch 4:  cost: 0.021236691623926163, accuracy: 0.646399974822998\n",
      "Epoch 12, CIFAR-10 Batch 5:  cost: 0.028008684515953064, accuracy: 0.6299999952316284\n",
      "Epoch 13, CIFAR-10 Batch 1:  cost: 0.0455387644469738, accuracy: 0.6340000033378601\n",
      "Epoch 13, CIFAR-10 Batch 2:  cost: 0.021377351135015488, accuracy: 0.6462000012397766\n",
      "Epoch 13, CIFAR-10 Batch 3:  cost: 0.027176689356565475, accuracy: 0.6549999713897705\n",
      "Epoch 13, CIFAR-10 Batch 4:  cost: 0.017443370074033737, accuracy: 0.6485999822616577\n",
      "Epoch 13, CIFAR-10 Batch 5:  cost: 0.018986068665981293, accuracy: 0.6424000263214111\n",
      "Epoch 14, CIFAR-10 Batch 1:  cost: 0.026777993887662888, accuracy: 0.6266000270843506\n",
      "Epoch 14, CIFAR-10 Batch 2:  cost: 0.02184518426656723, accuracy: 0.6503999829292297\n",
      "Epoch 14, CIFAR-10 Batch 3:  cost: 0.023884758353233337, accuracy: 0.6233999729156494\n",
      "Epoch 14, CIFAR-10 Batch 4:  cost: 0.01337445992976427, accuracy: 0.6478000283241272\n",
      "Epoch 14, CIFAR-10 Batch 5:  cost: 0.0060766953974962234, accuracy: 0.6498000025749207\n",
      "Epoch 15, CIFAR-10 Batch 1:  cost: 0.012706952169537544, accuracy: 0.6284000277519226\n",
      "Epoch 15, CIFAR-10 Batch 2:  cost: 0.014079946093261242, accuracy: 0.6525999903678894\n",
      "Epoch 15, CIFAR-10 Batch 3:  cost: 0.017068326473236084, accuracy: 0.6377999782562256\n",
      "Epoch 15, CIFAR-10 Batch 4:  cost: 0.020766252651810646, accuracy: 0.644599974155426\n",
      "Epoch 15, CIFAR-10 Batch 5:  cost: 0.005347267724573612, accuracy: 0.6498000025749207\n",
      "Epoch 16, CIFAR-10 Batch 1:  cost: 0.006906349211931229, accuracy: 0.635200023651123\n",
      "Epoch 16, CIFAR-10 Batch 2:  cost: 0.013452711515128613, accuracy: 0.6295999884605408\n",
      "Epoch 16, CIFAR-10 Batch 3:  cost: 0.014907076954841614, accuracy: 0.6407999992370605\n",
      "Epoch 16, CIFAR-10 Batch 4:  cost: 0.009460185654461384, accuracy: 0.6434000134468079\n",
      "Epoch 16, CIFAR-10 Batch 5:  cost: 0.005217250902205706, accuracy: 0.6561999917030334\n",
      "Epoch 17, CIFAR-10 Batch 1:  cost: 0.020034421235322952, accuracy: 0.6417999863624573\n",
      "Epoch 17, CIFAR-10 Batch 2:  cost: 0.012104051187634468, accuracy: 0.6223999857902527\n",
      "Epoch 17, CIFAR-10 Batch 3:  cost: 0.009003443643450737, accuracy: 0.652400016784668\n",
      "Epoch 17, CIFAR-10 Batch 4:  cost: 0.007852455601096153, accuracy: 0.642799973487854\n",
      "Epoch 17, CIFAR-10 Batch 5:  cost: 0.003990202210843563, accuracy: 0.6583999991416931\n",
      "Epoch 18, CIFAR-10 Batch 1:  cost: 0.01843854784965515, accuracy: 0.6395999789237976\n",
      "Epoch 18, CIFAR-10 Batch 2:  cost: 0.009393350221216679, accuracy: 0.6195999979972839\n",
      "Epoch 18, CIFAR-10 Batch 3:  cost: 0.00901021622121334, accuracy: 0.6462000012397766\n",
      "Epoch 18, CIFAR-10 Batch 4:  cost: 0.0027626955416053534, accuracy: 0.6431999802589417\n",
      "Epoch 18, CIFAR-10 Batch 5:  cost: 0.0017105760052800179, accuracy: 0.6488000154495239\n",
      "Epoch 19, CIFAR-10 Batch 1:  cost: 0.004167482256889343, accuracy: 0.6366000175476074\n",
      "Epoch 19, CIFAR-10 Batch 2:  cost: 0.004892169497907162, accuracy: 0.646399974822998\n",
      "Epoch 19, CIFAR-10 Batch 3:  cost: 0.002224892843514681, accuracy: 0.63919997215271\n",
      "Epoch 19, CIFAR-10 Batch 4:  cost: 0.0032855316530913115, accuracy: 0.6395999789237976\n",
      "Epoch 19, CIFAR-10 Batch 5:  cost: 0.00028804998146370053, accuracy: 0.6592000126838684\n",
      "Epoch 20, CIFAR-10 Batch 1:  cost: 0.002162376418709755, accuracy: 0.6262000203132629\n"
     ]
    },
    {
     "name": "stdout",
     "output_type": "stream",
     "text": [
      "Epoch 20, CIFAR-10 Batch 2:  cost: 0.00912137795239687, accuracy: 0.6200000047683716\n",
      "Epoch 20, CIFAR-10 Batch 3:  cost: 0.002713577589020133, accuracy: 0.6466000080108643\n",
      "Epoch 20, CIFAR-10 Batch 4:  cost: 0.004212862346321344, accuracy: 0.65420001745224\n",
      "Epoch 20, CIFAR-10 Batch 5:  cost: 0.0034198954235762358, accuracy: 0.6638000011444092\n",
      "Epoch 21, CIFAR-10 Batch 1:  cost: 0.0076176500879228115, accuracy: 0.6453999876976013\n",
      "Epoch 21, CIFAR-10 Batch 2:  cost: 0.0013239248655736446, accuracy: 0.6417999863624573\n",
      "Epoch 21, CIFAR-10 Batch 3:  cost: 0.0009813420474529266, accuracy: 0.6376000046730042\n",
      "Epoch 21, CIFAR-10 Batch 4:  cost: 0.013708872720599174, accuracy: 0.6381999850273132\n",
      "Epoch 21, CIFAR-10 Batch 5:  cost: 0.0018142074113711715, accuracy: 0.6471999883651733\n",
      "Epoch 22, CIFAR-10 Batch 1:  cost: 0.004957553930580616, accuracy: 0.6489999890327454\n",
      "Epoch 22, CIFAR-10 Batch 2:  cost: 0.0033192515838891268, accuracy: 0.6377999782562256\n",
      "Epoch 22, CIFAR-10 Batch 3:  cost: 0.0002242535847472027, accuracy: 0.6448000073432922\n",
      "Epoch 22, CIFAR-10 Batch 4:  cost: 0.007899832911789417, accuracy: 0.6439999938011169\n",
      "Epoch 22, CIFAR-10 Batch 5:  cost: 0.0013661135453730822, accuracy: 0.6525999903678894\n",
      "Epoch 23, CIFAR-10 Batch 1:  cost: 0.0020084038842469454, accuracy: 0.6456000208854675\n",
      "Epoch 23, CIFAR-10 Batch 2:  cost: 0.004269459750503302, accuracy: 0.6467999815940857\n",
      "Epoch 23, CIFAR-10 Batch 3:  cost: 0.00026700267335399985, accuracy: 0.6394000053405762\n",
      "Epoch 23, CIFAR-10 Batch 4:  cost: 0.0009643485536798835, accuracy: 0.6516000032424927\n",
      "Epoch 23, CIFAR-10 Batch 5:  cost: 0.00438428670167923, accuracy: 0.6430000066757202\n",
      "Epoch 24, CIFAR-10 Batch 1:  cost: 0.006429203785955906, accuracy: 0.6370000243186951\n",
      "Epoch 24, CIFAR-10 Batch 2:  cost: 0.0030877289827913046, accuracy: 0.6371999979019165\n",
      "Epoch 24, CIFAR-10 Batch 3:  cost: 0.002367111388593912, accuracy: 0.6403999924659729\n",
      "Epoch 24, CIFAR-10 Batch 4:  cost: 0.002156997099518776, accuracy: 0.6402000188827515\n",
      "Epoch 24, CIFAR-10 Batch 5:  cost: 0.0004567149153444916, accuracy: 0.6556000113487244\n",
      "Epoch 25, CIFAR-10 Batch 1:  cost: 0.0035983300767838955, accuracy: 0.6534000039100647\n",
      "Epoch 25, CIFAR-10 Batch 2:  cost: 0.0017728444654494524, accuracy: 0.6320000290870667\n",
      "Epoch 25, CIFAR-10 Batch 3:  cost: 0.002031714655458927, accuracy: 0.6373999714851379\n",
      "Epoch 25, CIFAR-10 Batch 4:  cost: 0.00018274963076692075, accuracy: 0.642799973487854\n",
      "Epoch 25, CIFAR-10 Batch 5:  cost: 0.0027447747997939587, accuracy: 0.6534000039100647\n",
      "Epoch 26, CIFAR-10 Batch 1:  cost: 0.003040021052584052, accuracy: 0.65420001745224\n",
      "Epoch 26, CIFAR-10 Batch 2:  cost: 0.001128246309235692, accuracy: 0.6502000093460083\n",
      "Epoch 26, CIFAR-10 Batch 3:  cost: 0.0005815120530314744, accuracy: 0.6435999870300293\n",
      "Epoch 26, CIFAR-10 Batch 4:  cost: 0.0011813031742349267, accuracy: 0.6323999762535095\n",
      "Epoch 26, CIFAR-10 Batch 5:  cost: 0.002357212360948324, accuracy: 0.6485999822616577\n",
      "Epoch 27, CIFAR-10 Batch 1:  cost: 0.0028113166335970163, accuracy: 0.6488000154495239\n",
      "Epoch 27, CIFAR-10 Batch 2:  cost: 0.00031916628358885646, accuracy: 0.6534000039100647\n",
      "Epoch 27, CIFAR-10 Batch 3:  cost: 0.0012430523056536913, accuracy: 0.6514000296592712\n",
      "Epoch 27, CIFAR-10 Batch 4:  cost: 0.0027162698097527027, accuracy: 0.6453999876976013\n",
      "Epoch 27, CIFAR-10 Batch 5:  cost: 0.0019933206494897604, accuracy: 0.642799973487854\n",
      "Epoch 28, CIFAR-10 Batch 1:  cost: 0.002843325026333332, accuracy: 0.6453999876976013\n",
      "Epoch 28, CIFAR-10 Batch 2:  cost: 0.0017751532141119242, accuracy: 0.6517999768257141\n",
      "Epoch 28, CIFAR-10 Batch 3:  cost: 0.0005521383718587458, accuracy: 0.6471999883651733\n",
      "Epoch 28, CIFAR-10 Batch 4:  cost: 0.00398101145401597, accuracy: 0.6327999830245972\n",
      "Epoch 28, CIFAR-10 Batch 5:  cost: 0.0008597854757681489, accuracy: 0.6632000207901001\n",
      "Epoch 29, CIFAR-10 Batch 1:  cost: 0.0007113551837392151, accuracy: 0.6601999998092651\n",
      "Epoch 29, CIFAR-10 Batch 2:  cost: 0.0012443417217582464, accuracy: 0.6531999707221985\n",
      "Epoch 29, CIFAR-10 Batch 3:  cost: 0.0009845264721661806, accuracy: 0.6448000073432922\n",
      "Epoch 29, CIFAR-10 Batch 4:  cost: 0.002855213824659586, accuracy: 0.6510000228881836\n",
      "Epoch 29, CIFAR-10 Batch 5:  cost: 0.00043967488454654813, accuracy: 0.6503999829292297\n",
      "Epoch 30, CIFAR-10 Batch 1:  cost: 0.0016508508706465364, accuracy: 0.650600016117096\n",
      "Epoch 30, CIFAR-10 Batch 2:  cost: 0.004668316338211298, accuracy: 0.652999997138977\n",
      "Epoch 30, CIFAR-10 Batch 3:  cost: 0.0005340289790183306, accuracy: 0.6478000283241272\n",
      "Epoch 30, CIFAR-10 Batch 4:  cost: 0.0015753615880385041, accuracy: 0.6535999774932861\n",
      "Epoch 30, CIFAR-10 Batch 5:  cost: 0.000830636010505259, accuracy: 0.6592000126838684\n",
      "Epoch 31, CIFAR-10 Batch 1:  cost: 0.0008353923331014812, accuracy: 0.6557999849319458\n",
      "Epoch 31, CIFAR-10 Batch 2:  cost: 0.0027616354636847973, accuracy: 0.6498000025749207\n",
      "Epoch 31, CIFAR-10 Batch 3:  cost: 0.0004219124966766685, accuracy: 0.6377999782562256\n",
      "Epoch 31, CIFAR-10 Batch 4:  cost: 0.001635453081689775, accuracy: 0.6585999727249146\n",
      "Epoch 31, CIFAR-10 Batch 5:  cost: 0.0019319942221045494, accuracy: 0.6517999768257141\n",
      "Epoch 32, CIFAR-10 Batch 1:  cost: 0.0004868078976869583, accuracy: 0.656000018119812\n",
      "Epoch 32, CIFAR-10 Batch 2:  cost: 0.00010895498417085037, accuracy: 0.6499999761581421\n",
      "Epoch 32, CIFAR-10 Batch 3:  cost: 0.00046150217531248927, accuracy: 0.6583999991416931\n",
      "Epoch 32, CIFAR-10 Batch 4:  cost: 0.0002417669165879488, accuracy: 0.6517999768257141\n",
      "Epoch 32, CIFAR-10 Batch 5:  cost: 0.0028366311453282833, accuracy: 0.6565999984741211\n",
      "Epoch 33, CIFAR-10 Batch 1:  cost: 0.00115567771717906, accuracy: 0.6528000235557556\n",
      "Epoch 33, CIFAR-10 Batch 2:  cost: 0.0011641865130513906, accuracy: 0.6556000113487244\n",
      "Epoch 33, CIFAR-10 Batch 3:  cost: 0.00016365692135877907, accuracy: 0.6611999869346619\n",
      "Epoch 33, CIFAR-10 Batch 4:  cost: 0.007337345276027918, accuracy: 0.6603999733924866\n",
      "Epoch 33, CIFAR-10 Batch 5:  cost: 0.0019931416027247906, accuracy: 0.6601999998092651\n",
      "Epoch 34, CIFAR-10 Batch 1:  cost: 0.008762435056269169, accuracy: 0.6528000235557556\n",
      "Epoch 34, CIFAR-10 Batch 2:  cost: 0.0033391076140105724, accuracy: 0.6574000120162964\n",
      "Epoch 34, CIFAR-10 Batch 3:  cost: 0.00022154855832923204, accuracy: 0.65420001745224\n",
      "Epoch 34, CIFAR-10 Batch 4:  cost: 0.0010963238310068846, accuracy: 0.6610000133514404\n",
      "Epoch 34, CIFAR-10 Batch 5:  cost: 0.0002443782286718488, accuracy: 0.6607999801635742\n",
      "Epoch 35, CIFAR-10 Batch 1:  cost: 0.0012829499319195747, accuracy: 0.6507999897003174\n",
      "Epoch 35, CIFAR-10 Batch 2:  cost: 0.0003069895028602332, accuracy: 0.649399995803833\n",
      "Epoch 35, CIFAR-10 Batch 3:  cost: 0.0004168685991317034, accuracy: 0.6547999978065491\n",
      "Epoch 35, CIFAR-10 Batch 4:  cost: 0.0010832255939021707, accuracy: 0.6520000100135803\n",
      "Epoch 35, CIFAR-10 Batch 5:  cost: 0.0015859708655625582, accuracy: 0.6575999855995178\n",
      "Epoch 36, CIFAR-10 Batch 1:  cost: 0.001703892252407968, accuracy: 0.6480000019073486\n",
      "Epoch 36, CIFAR-10 Batch 2:  cost: 0.00047359359450638294, accuracy: 0.6567999720573425\n",
      "Epoch 36, CIFAR-10 Batch 3:  cost: 0.0009357223170809448, accuracy: 0.6453999876976013\n",
      "Epoch 36, CIFAR-10 Batch 4:  cost: 0.002914967481046915, accuracy: 0.657800018787384\n",
      "Epoch 36, CIFAR-10 Batch 5:  cost: 0.0007420390611514449, accuracy: 0.6442000269889832\n",
      "Epoch 37, CIFAR-10 Batch 1:  cost: 0.0015989725943654776, accuracy: 0.6498000025749207\n",
      "Epoch 37, CIFAR-10 Batch 2:  cost: 0.0001903854717966169, accuracy: 0.6503999829292297\n",
      "Epoch 37, CIFAR-10 Batch 3:  cost: 0.000842646521050483, accuracy: 0.6502000093460083\n",
      "Epoch 37, CIFAR-10 Batch 4:  cost: 0.00019453081768006086, accuracy: 0.6610000133514404\n",
      "Epoch 37, CIFAR-10 Batch 5:  cost: 0.001782202161848545, accuracy: 0.6564000248908997\n",
      "Epoch 38, CIFAR-10 Batch 1:  cost: 0.00048256292939186096, accuracy: 0.6520000100135803\n",
      "Epoch 38, CIFAR-10 Batch 2:  cost: 0.00023588552721776068, accuracy: 0.6561999917030334\n",
      "Epoch 38, CIFAR-10 Batch 3:  cost: 0.00023647627676837146, accuracy: 0.6549999713897705\n",
      "Epoch 38, CIFAR-10 Batch 4:  cost: 0.0002338810299988836, accuracy: 0.6499999761581421\n",
      "Epoch 38, CIFAR-10 Batch 5:  cost: 0.0006166346138343215, accuracy: 0.6553999781608582\n"
     ]
    },
    {
     "name": "stdout",
     "output_type": "stream",
     "text": [
      "Epoch 39, CIFAR-10 Batch 1:  cost: 0.00025118939811363816, accuracy: 0.6498000025749207\n",
      "Epoch 39, CIFAR-10 Batch 2:  cost: 0.0008896711515262723, accuracy: 0.6528000235557556\n",
      "Epoch 39, CIFAR-10 Batch 3:  cost: 0.0015418430557474494, accuracy: 0.6564000248908997\n",
      "Epoch 39, CIFAR-10 Batch 4:  cost: 0.0003207795962225646, accuracy: 0.6643999814987183\n",
      "Epoch 39, CIFAR-10 Batch 5:  cost: 0.0004444343503564596, accuracy: 0.6589999794960022\n",
      "Epoch 40, CIFAR-10 Batch 1:  cost: 0.004361466504633427, accuracy: 0.6535999774932861\n",
      "Epoch 40, CIFAR-10 Batch 2:  cost: 0.0008751231362111866, accuracy: 0.6592000126838684\n",
      "Epoch 40, CIFAR-10 Batch 3:  cost: 0.0011500713881105185, accuracy: 0.6567999720573425\n",
      "Epoch 40, CIFAR-10 Batch 4:  cost: 0.00028295983793213964, accuracy: 0.65420001745224\n",
      "Epoch 40, CIFAR-10 Batch 5:  cost: 0.0011618155986070633, accuracy: 0.6579999923706055\n",
      "Epoch 41, CIFAR-10 Batch 1:  cost: 0.0007781021995469928, accuracy: 0.6574000120162964\n",
      "Epoch 41, CIFAR-10 Batch 2:  cost: 0.0001329730439465493, accuracy: 0.6552000045776367\n",
      "Epoch 41, CIFAR-10 Batch 3:  cost: 0.0002787676057778299, accuracy: 0.6543999910354614\n",
      "Epoch 41, CIFAR-10 Batch 4:  cost: 0.0018438778351992369, accuracy: 0.6478000283241272\n",
      "Epoch 41, CIFAR-10 Batch 5:  cost: 0.0004889067495241761, accuracy: 0.6514000296592712\n",
      "Epoch 42, CIFAR-10 Batch 1:  cost: 0.0012086865026503801, accuracy: 0.6535999774932861\n",
      "Epoch 42, CIFAR-10 Batch 2:  cost: 0.00020666109048761427, accuracy: 0.6398000121116638\n",
      "Epoch 42, CIFAR-10 Batch 3:  cost: 0.0006257414352148771, accuracy: 0.6650000214576721\n",
      "Epoch 42, CIFAR-10 Batch 4:  cost: 0.0007470229757018387, accuracy: 0.6624000072479248\n",
      "Epoch 42, CIFAR-10 Batch 5:  cost: 0.0014914043713361025, accuracy: 0.6453999876976013\n",
      "Epoch 43, CIFAR-10 Batch 1:  cost: 0.0024516768753528595, accuracy: 0.6621999740600586\n",
      "Epoch 43, CIFAR-10 Batch 2:  cost: 0.0010108764981850982, accuracy: 0.6583999991416931\n",
      "Epoch 43, CIFAR-10 Batch 3:  cost: 0.0025832015089690685, accuracy: 0.6503999829292297\n",
      "Epoch 43, CIFAR-10 Batch 4:  cost: 0.0010096948826685548, accuracy: 0.6600000262260437\n",
      "Epoch 43, CIFAR-10 Batch 5:  cost: 0.000977535150013864, accuracy: 0.6499999761581421\n",
      "Epoch 44, CIFAR-10 Batch 1:  cost: 9.278260404244065e-05, accuracy: 0.647599995136261\n",
      "Epoch 44, CIFAR-10 Batch 2:  cost: 0.001389938173815608, accuracy: 0.6480000019073486\n",
      "Epoch 44, CIFAR-10 Batch 3:  cost: 0.0009602505597285926, accuracy: 0.6585999727249146\n",
      "Epoch 44, CIFAR-10 Batch 4:  cost: 0.0007549303700216115, accuracy: 0.6466000080108643\n",
      "Epoch 44, CIFAR-10 Batch 5:  cost: 0.0003517771838232875, accuracy: 0.6403999924659729\n",
      "Epoch 45, CIFAR-10 Batch 1:  cost: 0.001185708912089467, accuracy: 0.652999997138977\n",
      "Epoch 45, CIFAR-10 Batch 2:  cost: 0.00023735477589070797, accuracy: 0.6520000100135803\n",
      "Epoch 45, CIFAR-10 Batch 3:  cost: 0.002730659209191799, accuracy: 0.6565999984741211\n",
      "Epoch 45, CIFAR-10 Batch 4:  cost: 0.002292750868946314, accuracy: 0.6574000120162964\n",
      "Epoch 45, CIFAR-10 Batch 5:  cost: 0.0040773311629891396, accuracy: 0.6607999801635742\n",
      "Epoch 46, CIFAR-10 Batch 1:  cost: 0.0007906922837719321, accuracy: 0.6567999720573425\n",
      "Epoch 46, CIFAR-10 Batch 2:  cost: 0.00018100571469403803, accuracy: 0.6417999863624573\n",
      "Epoch 46, CIFAR-10 Batch 3:  cost: 0.001502116909250617, accuracy: 0.6618000268936157\n",
      "Epoch 46, CIFAR-10 Batch 4:  cost: 0.00016591488383710384, accuracy: 0.6535999774932861\n",
      "Epoch 46, CIFAR-10 Batch 5:  cost: 0.0006417048862203956, accuracy: 0.657800018787384\n",
      "Epoch 47, CIFAR-10 Batch 1:  cost: 5.928178507019766e-05, accuracy: 0.651199996471405\n",
      "Epoch 47, CIFAR-10 Batch 2:  cost: 0.0004007838142570108, accuracy: 0.6553999781608582\n",
      "Epoch 47, CIFAR-10 Batch 3:  cost: 0.0009711661259643734, accuracy: 0.6589999794960022\n",
      "Epoch 47, CIFAR-10 Batch 4:  cost: 0.00034394400427117944, accuracy: 0.6607999801635742\n",
      "Epoch 47, CIFAR-10 Batch 5:  cost: 0.0012376416707411408, accuracy: 0.6485999822616577\n",
      "Epoch 48, CIFAR-10 Batch 1:  cost: 0.0021179341711103916, accuracy: 0.6606000065803528\n",
      "Epoch 48, CIFAR-10 Batch 2:  cost: 0.0005816256161779165, accuracy: 0.6570000052452087\n",
      "Epoch 48, CIFAR-10 Batch 3:  cost: 0.00052006880287081, accuracy: 0.6552000045776367\n",
      "Epoch 48, CIFAR-10 Batch 4:  cost: 0.00823014322668314, accuracy: 0.6538000106811523\n",
      "Epoch 48, CIFAR-10 Batch 5:  cost: 8.972614159574732e-05, accuracy: 0.6597999930381775\n",
      "Epoch 49, CIFAR-10 Batch 1:  cost: 0.0008082374115474522, accuracy: 0.6557999849319458\n",
      "Epoch 49, CIFAR-10 Batch 2:  cost: 3.4412900276947767e-05, accuracy: 0.6561999917030334\n",
      "Epoch 49, CIFAR-10 Batch 3:  cost: 0.0005733584403060377, accuracy: 0.6521999835968018\n",
      "Epoch 49, CIFAR-10 Batch 4:  cost: 0.003947357647120953, accuracy: 0.6601999998092651\n",
      "Epoch 49, CIFAR-10 Batch 5:  cost: 7.269094203365967e-05, accuracy: 0.6538000106811523\n",
      "Epoch 50, CIFAR-10 Batch 1:  cost: 9.297986252931878e-06, accuracy: 0.6579999923706055\n",
      "Epoch 50, CIFAR-10 Batch 2:  cost: 0.0008867525612004101, accuracy: 0.6430000066757202\n",
      "Epoch 50, CIFAR-10 Batch 3:  cost: 0.0004671929345931858, accuracy: 0.6606000065803528\n",
      "Epoch 50, CIFAR-10 Batch 4:  cost: 0.002354095922783017, accuracy: 0.645799994468689\n",
      "Epoch 50, CIFAR-10 Batch 5:  cost: 0.008823704905807972, accuracy: 0.6499999761581421\n"
     ]
    }
   ],
   "source": [
    "\"\"\"\n",
    "DON'T MODIFY ANYTHING IN THIS CELL\n",
    "\"\"\"\n",
    "save_model_path = './image_classification'\n",
    "\n",
    "print('Training...')\n",
    "with tf.Session() as sess:\n",
    "    # Initializing the variables\n",
    "    sess.run(tf.global_variables_initializer())\n",
    "    \n",
    "    # Training cycle\n",
    "    for epoch in range(epochs):\n",
    "        # Loop over all batches\n",
    "        n_batches = 5\n",
    "        for batch_i in range(1, n_batches + 1):\n",
    "            for batch_features, batch_labels in helper.load_preprocess_training_batch(batch_i, batch_size):\n",
    "                train_neural_network(sess, optimizer, keep_probability, batch_features, batch_labels)\n",
    "            print('Epoch {:>2}, CIFAR-10 Batch {}:  '.format(epoch + 1, batch_i), end='')\n",
    "            print_stats(sess, batch_features, batch_labels, cost, accuracy)\n",
    "            \n",
    "    # Save Model\n",
    "    saver = tf.train.Saver()\n",
    "    save_path = saver.save(sess, save_model_path)"
   ]
  },
  {
   "cell_type": "markdown",
   "metadata": {},
   "source": [
    "# Checkpoint\n",
    "The model has been saved to disk.\n",
    "## Test Model\n",
    "Test your model against the test dataset.  This will be your final accuracy. You should have an accuracy greater than 50%. If you don't, keep tweaking the model architecture and parameters."
   ]
  },
  {
   "cell_type": "code",
   "execution_count": 20,
   "metadata": {},
   "outputs": [
    {
     "name": "stdout",
     "output_type": "stream",
     "text": [
      "INFO:tensorflow:Restoring parameters from ./image_classification\n",
      "Testing Accuracy: 0.6483386075949367\n",
      "\n"
     ]
    },
    {
     "data": {
      "image/png": "[encoded data removed]",
      "text/plain": [
       "<matplotlib.figure.Figure at 0x21b8bd469b0>"
      ]
     },
     "metadata": {
      "image/png": {
       "height": 319,
       "width": 349
      }
     },
     "output_type": "display_data"
    }
   ],
   "source": [
    "\"\"\"\n",
    "DON'T MODIFY ANYTHING IN THIS CELL\n",
    "\"\"\"\n",
    "%matplotlib inline\n",
    "%config InlineBackend.figure_format = 'retina'\n",
    "\n",
    "import tensorflow as tf\n",
    "import pickle\n",
    "import helper\n",
    "import random\n",
    "\n",
    "# Set batch size if not already set\n",
    "try:\n",
    "    if batch_size:\n",
    "        pass\n",
    "except NameError:\n",
    "    batch_size = 64\n",
    "\n",
    "save_model_path = './image_classification'\n",
    "n_samples = 4\n",
    "top_n_predictions = 3\n",
    "\n",
    "def test_model():\n",
    "    \"\"\"\n",
    "    Test the saved model against the test dataset\n",
    "    \"\"\"\n",
    "\n",
    "    test_features, test_labels = pickle.load(open('preprocess_training.p', mode='rb'))\n",
    "    loaded_graph = tf.Graph()\n",
    "\n",
    "    with tf.Session(graph=loaded_graph) as sess:\n",
    "        # Load model\n",
    "        loader = tf.train.import_meta_graph(save_model_path + '.meta')\n",
    "        loader.restore(sess, save_model_path)\n",
    "\n",
    "        # Get Tensors from loaded model\n",
    "        loaded_x = loaded_graph.get_tensor_by_name('x:0')\n",
    "        loaded_y = loaded_graph.get_tensor_by_name('y:0')\n",
    "        loaded_keep_prob = loaded_graph.get_tensor_by_name('keep_prob:0')\n",
    "        loaded_logits = loaded_graph.get_tensor_by_name('logits:0')\n",
    "        loaded_acc = loaded_graph.get_tensor_by_name('accuracy:0')\n",
    "        \n",
    "        # Get accuracy in batches for memory limitations\n",
    "        test_batch_acc_total = 0\n",
    "        test_batch_count = 0\n",
    "        \n",
    "        for train_feature_batch, train_label_batch in helper.batch_features_labels(test_features, test_labels, batch_size):\n",
    "            test_batch_acc_total += sess.run(\n",
    "                loaded_acc,\n",
    "                feed_dict={loaded_x: train_feature_batch, loaded_y: train_label_batch, loaded_keep_prob: 1.0})\n",
    "            test_batch_count += 1\n",
    "\n",
    "        print('Testing Accuracy: {}\\n'.format(test_batch_acc_total/test_batch_count))\n",
    "\n",
    "        # Print Random Samples\n",
    "        random_test_features, random_test_labels = tuple(zip(*random.sample(list(zip(test_features, test_labels)), n_samples)))\n",
    "        random_test_predictions = sess.run(\n",
    "            tf.nn.top_k(tf.nn.softmax(loaded_logits), top_n_predictions),\n",
    "            feed_dict={loaded_x: random_test_features, loaded_y: random_test_labels, loaded_keep_prob: 1.0})\n",
    "        helper.display_image_predictions(random_test_features, random_test_labels, random_test_predictions)\n",
    "\n",
    "\n",
    "test_model()"
   ]
  },
  {
   "cell_type": "markdown",
   "metadata": {},
   "source": [
    "## Why 50-70% Accuracy?\n",
    "You might be wondering why you can't get an accuracy any higher. First things first, 50% isn't bad for a simple CNN.  Pure guessing would get you 10% accuracy. However, you might notice people are getting scores [well above 70%](http://rodrigob.github.io/are_we_there_yet/build/classification_datasets_results.html#43494641522d3130).  That's because we haven't taught you all there is to know about neural networks. We still need to cover a few more techniques.\n",
    "## Submitting This Project\n",
    "When submitting this project, make sure to run all the cells before saving the notebook.  Save the notebook file as \"dlnd_image_classification.ipynb\" and save it as a HTML file under \"File\" -> \"Download as\".  Include the \"helper.py\" and \"problem_unittests.py\" files in your submission."
   ]
  }
 ],
 "metadata": {
  "kernelspec": {
   "display_name": "Python 3",
   "language": "python",
   "name": "python3"
  },
  "language_info": {
   "codemirror_mode": {
    "name": "ipython",
    "version": 3
   },
   "file_extension": ".py",
   "mimetype": "text/x-python",
   "name": "python",
   "nbconvert_exporter": "python",
   "pygments_lexer": "ipython3",
   "version": "3.5.3"
  }
 },
 "nbformat": 4,
 "nbformat_minor": 1
}
